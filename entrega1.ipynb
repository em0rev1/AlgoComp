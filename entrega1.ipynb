{
 "cells": [
  {
   "cell_type": "code",
   "execution_count": 63,
   "id": "5cb73bc1",
   "metadata": {},
   "outputs": [],
   "source": [
    "alfabeto = 'abcdefghijklmnopqrstuvwxyz'\n",
    "diccionario_posiciones = {l: posicion for posicion, l in enumerate(alfabeto)}\n",
    "k=26\n",
    "def letraizq(resto,i):\n",
    "    t=(k**i-1)//(k-1)\n",
    "    cociente=resto//t\n",
    "    resto = resto%t\n",
    "    letra = alfabeto[cociente]\n",
    "    return (letra,resto)"
   ]
  },
  {
   "cell_type": "code",
   "execution_count": 64,
   "id": "0293748a",
   "metadata": {},
   "outputs": [],
   "source": [
    "def number2word(p,n):\n",
    "    s=\"\"\n",
    "    i=n\n",
    "    r=p-1\n",
    "    while i>0:\n",
    "        (letra,resto)=letraizq(r,i)\n",
    "        s+=letra\n",
    "        i+=-1\n",
    "        if resto == 0:\n",
    "            break\n",
    "        else:\n",
    "            r=resto-1\n",
    "    return s"
   ]
  },
  {
   "cell_type": "code",
   "execution_count": 66,
   "id": "2b069120",
   "metadata": {},
   "outputs": [
    {
     "data": {
      "text/plain": [
       "'hola'"
      ]
     },
     "execution_count": 66,
     "metadata": {},
     "output_type": "execute_result"
    }
   ],
   "source": [
    "number2word(138096,4)"
   ]
  },
  {
   "cell_type": "code",
   "execution_count": 67,
   "id": "f208037a",
   "metadata": {},
   "outputs": [],
   "source": [
    "def word2number(w,n):\n",
    "    i=0\n",
    "    suma = len(w)\n",
    "    for j in w:\n",
    "        t=(k**(n-i)-1)//(k-1)\n",
    "        suma += diccionario_posiciones[j]*t\n",
    "        i+=1\n",
    "    return suma"
   ]
  },
  {
   "cell_type": "code",
   "execution_count": 69,
   "id": "ee90df41",
   "metadata": {},
   "outputs": [
    {
     "data": {
      "text/plain": [
       "705"
      ]
     },
     "execution_count": 69,
     "metadata": {},
     "output_type": "execute_result"
    }
   ],
   "source": [
    "word2number('ab',4)"
   ]
  },
  {
   "cell_type": "code",
   "execution_count": 76,
   "id": "a7ea4404",
   "metadata": {},
   "outputs": [
    {
     "data": {
      "text/plain": [
       "'aazy'"
      ]
     },
     "execution_count": 76,
     "metadata": {},
     "output_type": "execute_result"
    }
   ],
   "source": [
    "number2word(703,4)"
   ]
  },
  {
   "cell_type": "code",
   "execution_count": 62,
   "id": "be1a0f4c",
   "metadata": {},
   "outputs": [
    {
     "data": {
      "text/plain": [
       "2"
      ]
     },
     "execution_count": 62,
     "metadata": {},
     "output_type": "execute_result"
    }
   ],
   "source": []
  },
  {
   "cell_type": "code",
   "execution_count": null,
   "id": "b3f553d0",
   "metadata": {},
   "outputs": [],
   "source": []
  }
 ],
 "metadata": {
  "kernelspec": {
   "display_name": "Python 3 (ipykernel)",
   "language": "python",
   "name": "python3"
  },
  "language_info": {
   "codemirror_mode": {
    "name": "ipython",
    "version": 3
   },
   "file_extension": ".py",
   "mimetype": "text/x-python",
   "name": "python",
   "nbconvert_exporter": "python",
   "pygments_lexer": "ipython3",
   "version": "3.10.9"
  }
 },
 "nbformat": 4,
 "nbformat_minor": 5
}
